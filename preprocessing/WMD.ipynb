{
 "cells": [
  {
   "cell_type": "code",
   "execution_count": 1,
   "metadata": {},
   "outputs": [],
   "source": [
    "import pandas as pd"
   ]
  },
  {
   "cell_type": "code",
   "execution_count": 2,
   "metadata": {},
   "outputs": [
    {
     "name": "stderr",
     "output_type": "stream",
     "text": [
      "c:\\programdata\\anaconda3\\envs\\mlenv\\lib\\site-packages\\gensim\\utils.py:1197: UserWarning: detected Windows; aliasing chunkize to chunkize_serial\n",
      "  warnings.warn(\"detected Windows; aliasing chunkize to chunkize_serial\")\n"
     ]
    }
   ],
   "source": [
    "from gensim.models import KeyedVectors"
   ]
  },
  {
   "cell_type": "code",
   "execution_count": 24,
   "metadata": {},
   "outputs": [],
   "source": [
    "import pickle"
   ]
  },
  {
   "cell_type": "code",
   "execution_count": 28,
   "metadata": {},
   "outputs": [
    {
     "ename": "MemoryError",
     "evalue": "",
     "output_type": "error",
     "traceback": [
      "\u001b[1;31m---------------------------------------------------------------------------\u001b[0m",
      "\u001b[1;31mMemoryError\u001b[0m                               Traceback (most recent call last)",
      "\u001b[1;32m<ipython-input-28-f91d771452f0>\u001b[0m in \u001b[0;36m<module>\u001b[1;34m()\u001b[0m\n\u001b[0;32m      1\u001b[0m \u001b[1;32mwith\u001b[0m \u001b[0mopen\u001b[0m\u001b[1;33m(\u001b[0m\u001b[1;34m'wmd_model.pkl'\u001b[0m\u001b[1;33m,\u001b[0m \u001b[1;34m'wb'\u001b[0m\u001b[1;33m)\u001b[0m \u001b[1;32mas\u001b[0m \u001b[0mf\u001b[0m\u001b[1;33m:\u001b[0m\u001b[1;33m\u001b[0m\u001b[0m\n\u001b[1;32m----> 2\u001b[1;33m     \u001b[0mpickle\u001b[0m\u001b[1;33m.\u001b[0m\u001b[0mdump\u001b[0m\u001b[1;33m(\u001b[0m\u001b[0mmodel\u001b[0m\u001b[1;33m,\u001b[0m \u001b[0mf\u001b[0m\u001b[1;33m)\u001b[0m\u001b[1;33m\u001b[0m\u001b[0m\n\u001b[0m",
      "\u001b[1;31mMemoryError\u001b[0m: "
     ]
    }
   ],
   "source": [
    "with open('wmd_model.pkl', 'wb') as f:\n",
    "    pickle.dump(model, f)"
   ]
  },
  {
   "cell_type": "code",
   "execution_count": 3,
   "metadata": {},
   "outputs": [
    {
     "name": "stdout",
     "output_type": "stream",
     "text": [
      "Wall time: 50min 12s\n"
     ]
    }
   ],
   "source": [
    "%%time\n",
    "model = KeyedVectors.load_word2vec_format('D:/wiki.en.vec', binary=False)"
   ]
  },
  {
   "cell_type": "code",
   "execution_count": 4,
   "metadata": {},
   "outputs": [],
   "source": [
    "input_text = pd.read_csv('D:/baklazhan/Compling/rec_graph/graph_id_clean_text.csv')"
   ]
  },
  {
   "cell_type": "code",
   "execution_count": 5,
   "metadata": {},
   "outputs": [],
   "source": [
    "test_x_y = pd.read_csv('D:/baklazhan/Compling/rec_graph/test_links_class_similarities.csv')"
   ]
  },
  {
   "cell_type": "code",
   "execution_count": 6,
   "metadata": {},
   "outputs": [
    {
     "data": {
      "text/html": [
       "<div>\n",
       "<style scoped>\n",
       "    .dataframe tbody tr th:only-of-type {\n",
       "        vertical-align: middle;\n",
       "    }\n",
       "\n",
       "    .dataframe tbody tr th {\n",
       "        vertical-align: top;\n",
       "    }\n",
       "\n",
       "    .dataframe thead th {\n",
       "        text-align: right;\n",
       "    }\n",
       "</style>\n",
       "<table border=\"1\" class=\"dataframe\">\n",
       "  <thead>\n",
       "    <tr style=\"text-align: right;\">\n",
       "      <th></th>\n",
       "      <th>citing</th>\n",
       "      <th>cited</th>\n",
       "      <th>class</th>\n",
       "      <th>sim_d2v</th>\n",
       "      <th>sim_tfidf</th>\n",
       "      <th>sim_ft_mean</th>\n",
       "      <th>sim_ft_weighted</th>\n",
       "    </tr>\n",
       "  </thead>\n",
       "  <tbody>\n",
       "    <tr>\n",
       "      <th>0</th>\n",
       "      <td>C14-1216</td>\n",
       "      <td>W07-1019</td>\n",
       "      <td>0</td>\n",
       "      <td>0.454362</td>\n",
       "      <td>0.004421</td>\n",
       "      <td>0.853234</td>\n",
       "      <td>0.785374</td>\n",
       "    </tr>\n",
       "    <tr>\n",
       "      <th>1</th>\n",
       "      <td>W13-2002</td>\n",
       "      <td>D08-1027</td>\n",
       "      <td>0</td>\n",
       "      <td>0.547518</td>\n",
       "      <td>0.029428</td>\n",
       "      <td>0.870538</td>\n",
       "      <td>0.838423</td>\n",
       "    </tr>\n",
       "    <tr>\n",
       "      <th>2</th>\n",
       "      <td>D13-1041</td>\n",
       "      <td>W14-1304</td>\n",
       "      <td>0</td>\n",
       "      <td>0.604749</td>\n",
       "      <td>0.011548</td>\n",
       "      <td>0.867591</td>\n",
       "      <td>0.818291</td>\n",
       "    </tr>\n",
       "    <tr>\n",
       "      <th>3</th>\n",
       "      <td>P14-2095</td>\n",
       "      <td>P13-2017</td>\n",
       "      <td>1</td>\n",
       "      <td>0.260585</td>\n",
       "      <td>0.133643</td>\n",
       "      <td>0.870482</td>\n",
       "      <td>0.854460</td>\n",
       "    </tr>\n",
       "    <tr>\n",
       "      <th>4</th>\n",
       "      <td>C14-1089</td>\n",
       "      <td>W04-3217</td>\n",
       "      <td>0</td>\n",
       "      <td>0.505673</td>\n",
       "      <td>0.025127</td>\n",
       "      <td>0.895686</td>\n",
       "      <td>0.848893</td>\n",
       "    </tr>\n",
       "  </tbody>\n",
       "</table>\n",
       "</div>"
      ],
      "text/plain": [
       "     citing     cited  class   sim_d2v  sim_tfidf  sim_ft_mean  \\\n",
       "0  C14-1216  W07-1019      0  0.454362   0.004421     0.853234   \n",
       "1  W13-2002  D08-1027      0  0.547518   0.029428     0.870538   \n",
       "2  D13-1041  W14-1304      0  0.604749   0.011548     0.867591   \n",
       "3  P14-2095  P13-2017      1  0.260585   0.133643     0.870482   \n",
       "4  C14-1089  W04-3217      0  0.505673   0.025127     0.895686   \n",
       "\n",
       "   sim_ft_weighted  \n",
       "0         0.785374  \n",
       "1         0.838423  \n",
       "2         0.818291  \n",
       "3         0.854460  \n",
       "4         0.848893  "
      ]
     },
     "execution_count": 6,
     "metadata": {},
     "output_type": "execute_result"
    }
   ],
   "source": [
    "test_x_y.head()"
   ]
  },
  {
   "cell_type": "code",
   "execution_count": 7,
   "metadata": {},
   "outputs": [
    {
     "data": {
      "text/html": [
       "<div>\n",
       "<style scoped>\n",
       "    .dataframe tbody tr th:only-of-type {\n",
       "        vertical-align: middle;\n",
       "    }\n",
       "\n",
       "    .dataframe tbody tr th {\n",
       "        vertical-align: top;\n",
       "    }\n",
       "\n",
       "    .dataframe thead th {\n",
       "        text-align: right;\n",
       "    }\n",
       "</style>\n",
       "<table border=\"1\" class=\"dataframe\">\n",
       "  <thead>\n",
       "    <tr style=\"text-align: right;\">\n",
       "      <th></th>\n",
       "      <th>id</th>\n",
       "      <th>node_id</th>\n",
       "      <th>abstract</th>\n",
       "    </tr>\n",
       "  </thead>\n",
       "  <tbody>\n",
       "    <tr>\n",
       "      <th>0</th>\n",
       "      <td>A00-1002</td>\n",
       "      <td>0</td>\n",
       "      <td>using examples transfer based mt system czech ...</td>\n",
       "    </tr>\n",
       "    <tr>\n",
       "      <th>1</th>\n",
       "      <td>A00-1005</td>\n",
       "      <td>1</td>\n",
       "      <td>paper describes system provides customer servi...</td>\n",
       "    </tr>\n",
       "    <tr>\n",
       "      <th>2</th>\n",
       "      <td>A00-1006</td>\n",
       "      <td>2</td>\n",
       "      <td>paper proposes way improve translation quality...</td>\n",
       "    </tr>\n",
       "    <tr>\n",
       "      <th>3</th>\n",
       "      <td>A00-1008</td>\n",
       "      <td>3</td>\n",
       "      <td>paper describes application ape atlas planning...</td>\n",
       "    </tr>\n",
       "    <tr>\n",
       "      <th>4</th>\n",
       "      <td>A00-1009</td>\n",
       "      <td>4</td>\n",
       "      <td>paper describe implemented framework developin...</td>\n",
       "    </tr>\n",
       "  </tbody>\n",
       "</table>\n",
       "</div>"
      ],
      "text/plain": [
       "         id  node_id                                           abstract\n",
       "0  A00-1002        0  using examples transfer based mt system czech ...\n",
       "1  A00-1005        1  paper describes system provides customer servi...\n",
       "2  A00-1006        2  paper proposes way improve translation quality...\n",
       "3  A00-1008        3  paper describes application ape atlas planning...\n",
       "4  A00-1009        4  paper describe implemented framework developin..."
      ]
     },
     "execution_count": 7,
     "metadata": {},
     "output_type": "execute_result"
    }
   ],
   "source": [
    "input_text.head()"
   ]
  },
  {
   "cell_type": "code",
   "execution_count": 8,
   "metadata": {},
   "outputs": [
    {
     "data": {
      "text/plain": [
       "'examine task separating types brands food domain framing problem ranking task convert simple textual features extracted domain specific corpus ranker without need labeled training data method rank brands e g sprite higher types e g lemonade apart also exploit knowledge induced semisupervised graph based clustering two different purposes one hand produce auxiliary categorization food items according food guide pyramid assume food item type belongs category unlikely contain brands hand directly model task brand detection using seeds provided output textual ranking features also harness wikipedia articles additional knowledge source'"
      ]
     },
     "execution_count": 8,
     "metadata": {},
     "output_type": "execute_result"
    }
   ],
   "source": [
    "input_text[input_text['id'] == test_x_y['citing'][0]]['abstract'].values[0]"
   ]
  },
  {
   "cell_type": "code",
   "execution_count": 9,
   "metadata": {},
   "outputs": [],
   "source": [
    "distance = model.wmdistance('rain deer is lost in the forest', 'animal can not find his way in the wood')"
   ]
  },
  {
   "cell_type": "code",
   "execution_count": 10,
   "metadata": {},
   "outputs": [
    {
     "data": {
      "text/plain": [
       "1.6763979775179965"
      ]
     },
     "execution_count": 10,
     "metadata": {},
     "output_type": "execute_result"
    }
   ],
   "source": [
    "distance"
   ]
  },
  {
   "cell_type": "code",
   "execution_count": 11,
   "metadata": {},
   "outputs": [],
   "source": [
    "distance = model.wmdistance(input_text[input_text['id'] == test_x_y['citing'][0]]['abstract'].values[0], \n",
    "                            input_text[input_text['id'] == test_x_y['cited'][0]]['abstract'].values[0])"
   ]
  },
  {
   "cell_type": "code",
   "execution_count": 12,
   "metadata": {},
   "outputs": [
    {
     "data": {
      "text/plain": [
       "0.6425765099287455"
      ]
     },
     "execution_count": 12,
     "metadata": {},
     "output_type": "execute_result"
    }
   ],
   "source": [
    "distance"
   ]
  },
  {
   "cell_type": "code",
   "execution_count": 13,
   "metadata": {},
   "outputs": [
    {
     "data": {
      "text/plain": [
       "0.652218298518323"
      ]
     },
     "execution_count": 13,
     "metadata": {},
     "output_type": "execute_result"
    }
   ],
   "source": [
    "model.wmdistance(input_text[input_text['id'] == test_x_y['citing'][3]]['abstract'].values[0], \n",
    "                            input_text[input_text['id'] == test_x_y['cited'][3]]['abstract'].values[0])"
   ]
  },
  {
   "cell_type": "code",
   "execution_count": 14,
   "metadata": {},
   "outputs": [],
   "source": [
    "f_wmd = lambda x: model.wmdistance(input_text[input_text['id'] == x['citing']]['abstract'].values[0], \n",
    "                            input_text[input_text['id'] == x['cited']]['abstract'].values[0])"
   ]
  },
  {
   "cell_type": "code",
   "execution_count": 15,
   "metadata": {
    "scrolled": true
   },
   "outputs": [
    {
     "name": "stdout",
     "output_type": "stream",
     "text": [
      "Wall time: 7min 38s\n"
     ]
    }
   ],
   "source": [
    "%%time\n",
    "test_x_y['wmd'] = test_x_y.apply(f_wmd, axis = 1)"
   ]
  },
  {
   "cell_type": "code",
   "execution_count": 16,
   "metadata": {},
   "outputs": [
    {
     "data": {
      "text/plain": [
       "0.21120697425291585"
      ]
     },
     "execution_count": 16,
     "metadata": {},
     "output_type": "execute_result"
    }
   ],
   "source": [
    "test_x_y[test_x_y['class'] == 0]['wmd'].min()"
   ]
  },
  {
   "cell_type": "code",
   "execution_count": 17,
   "metadata": {},
   "outputs": [
    {
     "data": {
      "text/plain": [
       "0.0"
      ]
     },
     "execution_count": 17,
     "metadata": {},
     "output_type": "execute_result"
    }
   ],
   "source": [
    "test_x_y[test_x_y['class'] == 1]['wmd'].min()"
   ]
  },
  {
   "cell_type": "code",
   "execution_count": 18,
   "metadata": {},
   "outputs": [
    {
     "data": {
      "text/plain": [
       "0.6046992590197461"
      ]
     },
     "execution_count": 18,
     "metadata": {},
     "output_type": "execute_result"
    }
   ],
   "source": [
    "test_x_y[test_x_y['class'] == 0]['wmd'].mean()"
   ]
  },
  {
   "cell_type": "code",
   "execution_count": 19,
   "metadata": {},
   "outputs": [
    {
     "data": {
      "text/plain": [
       "0.5546026097937531"
      ]
     },
     "execution_count": 19,
     "metadata": {},
     "output_type": "execute_result"
    }
   ],
   "source": [
    "test_x_y[test_x_y['class'] == 1]['wmd'].mean()"
   ]
  },
  {
   "cell_type": "code",
   "execution_count": 20,
   "metadata": {},
   "outputs": [
    {
     "data": {
      "text/plain": [
       "1.8882284424622313"
      ]
     },
     "execution_count": 20,
     "metadata": {},
     "output_type": "execute_result"
    }
   ],
   "source": [
    "test_x_y[test_x_y['class'] == 0]['wmd'].max()"
   ]
  },
  {
   "cell_type": "code",
   "execution_count": 21,
   "metadata": {},
   "outputs": [
    {
     "data": {
      "text/plain": [
       "1.32364617616696"
      ]
     },
     "execution_count": 21,
     "metadata": {},
     "output_type": "execute_result"
    }
   ],
   "source": [
    "test_x_y[test_x_y['class'] == 1]['wmd'].max()"
   ]
  },
  {
   "cell_type": "code",
   "execution_count": 35,
   "metadata": {},
   "outputs": [],
   "source": [
    "from gensim.similarities import WmdSimilarity"
   ]
  },
  {
   "cell_type": "code",
   "execution_count": 36,
   "metadata": {},
   "outputs": [
    {
     "name": "stdout",
     "output_type": "stream",
     "text": [
      "Wall time: 1min 17s\n"
     ]
    }
   ],
   "source": [
    "%%time\n",
    "wmd_sim = WmdSimilarity(input_text['abstract'], model, num_best=10)"
   ]
  },
  {
   "cell_type": "code",
   "execution_count": 46,
   "metadata": {},
   "outputs": [],
   "source": [
    "similar = wmd_sim[input_text['abstract'].values[1080]]"
   ]
  },
  {
   "cell_type": "code",
   "execution_count": 47,
   "metadata": {},
   "outputs": [
    {
     "data": {
      "text/plain": [
       "[(1080, 1.0),\n",
       " (7337, 0.9294027208588971),\n",
       " (9035, 0.9264838335285507),\n",
       " (2397, 0.9262759730543527),\n",
       " (560, 0.9259126325307288),\n",
       " (12993, 0.9245206684111129),\n",
       " (13381, 0.924468473188548),\n",
       " (13041, 0.9240026743588734),\n",
       " (12680, 0.9234929087642102),\n",
       " (4488, 0.9233397975523558)]"
      ]
     },
     "execution_count": 47,
     "metadata": {},
     "output_type": "execute_result"
    }
   ],
   "source": [
    "similar"
   ]
  },
  {
   "cell_type": "code",
   "execution_count": 45,
   "metadata": {},
   "outputs": [
    {
     "data": {
      "text/html": [
       "<div>\n",
       "<style scoped>\n",
       "    .dataframe tbody tr th:only-of-type {\n",
       "        vertical-align: middle;\n",
       "    }\n",
       "\n",
       "    .dataframe tbody tr th {\n",
       "        vertical-align: top;\n",
       "    }\n",
       "\n",
       "    .dataframe thead th {\n",
       "        text-align: right;\n",
       "    }\n",
       "</style>\n",
       "<table border=\"1\" class=\"dataframe\">\n",
       "  <thead>\n",
       "    <tr style=\"text-align: right;\">\n",
       "      <th></th>\n",
       "      <th>id</th>\n",
       "      <th>node_id</th>\n",
       "      <th>abstract</th>\n",
       "    </tr>\n",
       "  </thead>\n",
       "  <tbody>\n",
       "    <tr>\n",
       "      <th>1080</th>\n",
       "      <td>C14-1216</td>\n",
       "      <td>1080</td>\n",
       "      <td>examine task separating types brands food doma...</td>\n",
       "    </tr>\n",
       "  </tbody>\n",
       "</table>\n",
       "</div>"
      ],
      "text/plain": [
       "            id  node_id                                           abstract\n",
       "1080  C14-1216     1080  examine task separating types brands food doma..."
      ]
     },
     "execution_count": 45,
     "metadata": {},
     "output_type": "execute_result"
    }
   ],
   "source": [
    "input_text[input_text['id'] == 'C14-1216']"
   ]
  },
  {
   "cell_type": "code",
   "execution_count": 48,
   "metadata": {},
   "outputs": [
    {
     "data": {
      "text/html": [
       "<div>\n",
       "<style scoped>\n",
       "    .dataframe tbody tr th:only-of-type {\n",
       "        vertical-align: middle;\n",
       "    }\n",
       "\n",
       "    .dataframe tbody tr th {\n",
       "        vertical-align: top;\n",
       "    }\n",
       "\n",
       "    .dataframe thead th {\n",
       "        text-align: right;\n",
       "    }\n",
       "</style>\n",
       "<table border=\"1\" class=\"dataframe\">\n",
       "  <thead>\n",
       "    <tr style=\"text-align: right;\">\n",
       "      <th></th>\n",
       "      <th>citing</th>\n",
       "      <th>cited</th>\n",
       "      <th>class</th>\n",
       "      <th>sim_tfidf</th>\n",
       "      <th>sim_ft_mean</th>\n",
       "      <th>sim_ft_weighted</th>\n",
       "      <th>wmd</th>\n",
       "    </tr>\n",
       "  </thead>\n",
       "  <tbody>\n",
       "    <tr>\n",
       "      <th>0</th>\n",
       "      <td>C14-1216</td>\n",
       "      <td>W07-1019</td>\n",
       "      <td>0</td>\n",
       "      <td>0.004421</td>\n",
       "      <td>0.853234</td>\n",
       "      <td>0.785374</td>\n",
       "      <td>0.642577</td>\n",
       "    </tr>\n",
       "    <tr>\n",
       "      <th>30</th>\n",
       "      <td>C14-1216</td>\n",
       "      <td>P12-1057</td>\n",
       "      <td>1</td>\n",
       "      <td>0.020812</td>\n",
       "      <td>0.915617</td>\n",
       "      <td>0.872597</td>\n",
       "      <td>0.629647</td>\n",
       "    </tr>\n",
       "    <tr>\n",
       "      <th>3036</th>\n",
       "      <td>C14-1216</td>\n",
       "      <td>P97-1023</td>\n",
       "      <td>1</td>\n",
       "      <td>0.028453</td>\n",
       "      <td>0.871837</td>\n",
       "      <td>0.816986</td>\n",
       "      <td>0.689834</td>\n",
       "    </tr>\n",
       "    <tr>\n",
       "      <th>10712</th>\n",
       "      <td>W13-1907</td>\n",
       "      <td>C14-1216</td>\n",
       "      <td>0</td>\n",
       "      <td>0.005649</td>\n",
       "      <td>0.877624</td>\n",
       "      <td>0.846649</td>\n",
       "      <td>0.559608</td>\n",
       "    </tr>\n",
       "    <tr>\n",
       "      <th>10993</th>\n",
       "      <td>C14-1216</td>\n",
       "      <td>N12-2012</td>\n",
       "      <td>0</td>\n",
       "      <td>0.049339</td>\n",
       "      <td>0.913325</td>\n",
       "      <td>0.849708</td>\n",
       "      <td>0.502507</td>\n",
       "    </tr>\n",
       "    <tr>\n",
       "      <th>16049</th>\n",
       "      <td>C14-1216</td>\n",
       "      <td>W97-0802</td>\n",
       "      <td>1</td>\n",
       "      <td>0.000000</td>\n",
       "      <td>0.862972</td>\n",
       "      <td>0.832919</td>\n",
       "      <td>0.664523</td>\n",
       "    </tr>\n",
       "    <tr>\n",
       "      <th>18239</th>\n",
       "      <td>C14-1216</td>\n",
       "      <td>P06-1123</td>\n",
       "      <td>0</td>\n",
       "      <td>0.015826</td>\n",
       "      <td>0.884056</td>\n",
       "      <td>0.838147</td>\n",
       "      <td>0.603928</td>\n",
       "    </tr>\n",
       "    <tr>\n",
       "      <th>18672</th>\n",
       "      <td>C14-1216</td>\n",
       "      <td>C96-1079</td>\n",
       "      <td>0</td>\n",
       "      <td>0.003912</td>\n",
       "      <td>0.844038</td>\n",
       "      <td>0.800574</td>\n",
       "      <td>0.521935</td>\n",
       "    </tr>\n",
       "    <tr>\n",
       "      <th>18937</th>\n",
       "      <td>C14-1216</td>\n",
       "      <td>P98-2182</td>\n",
       "      <td>1</td>\n",
       "      <td>0.052143</td>\n",
       "      <td>0.925693</td>\n",
       "      <td>0.896744</td>\n",
       "      <td>0.471055</td>\n",
       "    </tr>\n",
       "    <tr>\n",
       "      <th>22255</th>\n",
       "      <td>C14-1216</td>\n",
       "      <td>W04-1107</td>\n",
       "      <td>0</td>\n",
       "      <td>0.012593</td>\n",
       "      <td>0.890886</td>\n",
       "      <td>0.837131</td>\n",
       "      <td>0.688427</td>\n",
       "    </tr>\n",
       "  </tbody>\n",
       "</table>\n",
       "</div>"
      ],
      "text/plain": [
       "         citing     cited  class  sim_tfidf  sim_ft_mean  sim_ft_weighted  \\\n",
       "0      C14-1216  W07-1019      0   0.004421     0.853234         0.785374   \n",
       "30     C14-1216  P12-1057      1   0.020812     0.915617         0.872597   \n",
       "3036   C14-1216  P97-1023      1   0.028453     0.871837         0.816986   \n",
       "10712  W13-1907  C14-1216      0   0.005649     0.877624         0.846649   \n",
       "10993  C14-1216  N12-2012      0   0.049339     0.913325         0.849708   \n",
       "16049  C14-1216  W97-0802      1   0.000000     0.862972         0.832919   \n",
       "18239  C14-1216  P06-1123      0   0.015826     0.884056         0.838147   \n",
       "18672  C14-1216  C96-1079      0   0.003912     0.844038         0.800574   \n",
       "18937  C14-1216  P98-2182      1   0.052143     0.925693         0.896744   \n",
       "22255  C14-1216  W04-1107      0   0.012593     0.890886         0.837131   \n",
       "\n",
       "            wmd  \n",
       "0      0.642577  \n",
       "30     0.629647  \n",
       "3036   0.689834  \n",
       "10712  0.559608  \n",
       "10993  0.502507  \n",
       "16049  0.664523  \n",
       "18239  0.603928  \n",
       "18672  0.521935  \n",
       "18937  0.471055  \n",
       "22255  0.688427  "
      ]
     },
     "execution_count": 48,
     "metadata": {},
     "output_type": "execute_result"
    }
   ],
   "source": [
    "test_x_y[(test_x_y['citing'] == 'C14-1216')|(test_x_y['cited'] == 'C14-1216')]"
   ]
  },
  {
   "cell_type": "code",
   "execution_count": 22,
   "metadata": {},
   "outputs": [
    {
     "data": {
      "text/html": [
       "<div>\n",
       "<style scoped>\n",
       "    .dataframe tbody tr th:only-of-type {\n",
       "        vertical-align: middle;\n",
       "    }\n",
       "\n",
       "    .dataframe tbody tr th {\n",
       "        vertical-align: top;\n",
       "    }\n",
       "\n",
       "    .dataframe thead th {\n",
       "        text-align: right;\n",
       "    }\n",
       "</style>\n",
       "<table border=\"1\" class=\"dataframe\">\n",
       "  <thead>\n",
       "    <tr style=\"text-align: right;\">\n",
       "      <th></th>\n",
       "      <th>citing</th>\n",
       "      <th>cited</th>\n",
       "      <th>class</th>\n",
       "      <th>sim_d2v</th>\n",
       "      <th>sim_tfidf</th>\n",
       "      <th>sim_ft_mean</th>\n",
       "      <th>sim_ft_weighted</th>\n",
       "      <th>wmd</th>\n",
       "    </tr>\n",
       "  </thead>\n",
       "  <tbody>\n",
       "    <tr>\n",
       "      <th>0</th>\n",
       "      <td>C14-1216</td>\n",
       "      <td>W07-1019</td>\n",
       "      <td>0</td>\n",
       "      <td>0.454362</td>\n",
       "      <td>0.004421</td>\n",
       "      <td>0.853234</td>\n",
       "      <td>0.785374</td>\n",
       "      <td>0.642577</td>\n",
       "    </tr>\n",
       "    <tr>\n",
       "      <th>1</th>\n",
       "      <td>W13-2002</td>\n",
       "      <td>D08-1027</td>\n",
       "      <td>0</td>\n",
       "      <td>0.547518</td>\n",
       "      <td>0.029428</td>\n",
       "      <td>0.870538</td>\n",
       "      <td>0.838423</td>\n",
       "      <td>0.586771</td>\n",
       "    </tr>\n",
       "    <tr>\n",
       "      <th>2</th>\n",
       "      <td>D13-1041</td>\n",
       "      <td>W14-1304</td>\n",
       "      <td>0</td>\n",
       "      <td>0.604749</td>\n",
       "      <td>0.011548</td>\n",
       "      <td>0.867591</td>\n",
       "      <td>0.818291</td>\n",
       "      <td>0.650556</td>\n",
       "    </tr>\n",
       "    <tr>\n",
       "      <th>3</th>\n",
       "      <td>P14-2095</td>\n",
       "      <td>P13-2017</td>\n",
       "      <td>1</td>\n",
       "      <td>0.260585</td>\n",
       "      <td>0.133643</td>\n",
       "      <td>0.870482</td>\n",
       "      <td>0.854460</td>\n",
       "      <td>0.652218</td>\n",
       "    </tr>\n",
       "    <tr>\n",
       "      <th>4</th>\n",
       "      <td>C14-1089</td>\n",
       "      <td>W04-3217</td>\n",
       "      <td>0</td>\n",
       "      <td>0.505673</td>\n",
       "      <td>0.025127</td>\n",
       "      <td>0.895686</td>\n",
       "      <td>0.848893</td>\n",
       "      <td>0.756907</td>\n",
       "    </tr>\n",
       "  </tbody>\n",
       "</table>\n",
       "</div>"
      ],
      "text/plain": [
       "     citing     cited  class   sim_d2v  sim_tfidf  sim_ft_mean  \\\n",
       "0  C14-1216  W07-1019      0  0.454362   0.004421     0.853234   \n",
       "1  W13-2002  D08-1027      0  0.547518   0.029428     0.870538   \n",
       "2  D13-1041  W14-1304      0  0.604749   0.011548     0.867591   \n",
       "3  P14-2095  P13-2017      1  0.260585   0.133643     0.870482   \n",
       "4  C14-1089  W04-3217      0  0.505673   0.025127     0.895686   \n",
       "\n",
       "   sim_ft_weighted       wmd  \n",
       "0         0.785374  0.642577  \n",
       "1         0.838423  0.586771  \n",
       "2         0.818291  0.650556  \n",
       "3         0.854460  0.652218  \n",
       "4         0.848893  0.756907  "
      ]
     },
     "execution_count": 22,
     "metadata": {},
     "output_type": "execute_result"
    }
   ],
   "source": [
    "test_x_y.head()"
   ]
  },
  {
   "cell_type": "code",
   "execution_count": 23,
   "metadata": {},
   "outputs": [],
   "source": [
    "test_x_y.to_csv('D:/baklazhan/Compling/rec_graph/test_links_class_similarities_2505.csv', index=False)"
   ]
  },
  {
   "cell_type": "code",
   "execution_count": 49,
   "metadata": {},
   "outputs": [],
   "source": [
    "with open('D:/baklazhan/Compling/rec_graph/pctadw.embedding', 'r') as f:\n",
    "    pctadw_emb = f.read()"
   ]
  },
  {
   "cell_type": "code",
   "execution_count": 54,
   "metadata": {},
   "outputs": [],
   "source": [
    "pctadw_emb = pctadw_emb.split('\\n')"
   ]
  },
  {
   "cell_type": "code",
   "execution_count": 64,
   "metadata": {},
   "outputs": [],
   "source": [
    "import decimal\n",
    "import numpy as np"
   ]
  },
  {
   "cell_type": "code",
   "execution_count": 65,
   "metadata": {},
   "outputs": [
    {
     "data": {
      "text/plain": [
       "array([-8.93860706e-04,  1.60982266e-01, -2.11674064e-01, -2.74693906e-01,\n",
       "        1.97055027e-01,  1.61276862e-01,  1.20479964e-01,  2.94525474e-01,\n",
       "       -4.81311381e-02,  1.04785196e-01, -1.52435720e-01,  7.38123083e-04,\n",
       "       -1.14586137e-01, -2.90383846e-01,  1.60017416e-01,  3.18332613e-01,\n",
       "        4.74042259e-02, -1.24664173e-01, -5.38795181e-02,  1.15151308e-01,\n",
       "        2.01538298e-02,  1.08358063e-01,  1.23255700e-01,  1.28390476e-01,\n",
       "       -2.92334795e-01, -3.55916508e-02, -1.81984767e-01, -1.61383390e-01,\n",
       "       -1.00058503e-01,  2.84194499e-01,  2.39430685e-02,  5.53812012e-02,\n",
       "       -2.80262833e-03, -2.03434184e-01, -8.76062512e-02, -1.29554287e-01,\n",
       "       -2.05357522e-02, -1.67665467e-01, -4.10764255e-02,  2.06701815e-01,\n",
       "        6.05085492e-02,  1.19083256e-01, -1.05225518e-01, -2.40415886e-01,\n",
       "       -6.46040812e-02,  2.47369677e-01, -2.74373777e-02,  2.47500286e-01,\n",
       "        6.29119799e-02, -8.84795040e-02, -2.46053636e-02,  9.01527628e-02,\n",
       "        1.66662619e-01, -3.99261415e-02, -3.04570589e-02,  1.75867617e-01,\n",
       "        2.66871927e-03, -1.89184189e-01, -2.71400839e-01,  4.86275777e-02,\n",
       "        6.23385943e-02, -1.57158628e-01,  2.73975302e-02,  1.37767866e-01,\n",
       "       -5.53615056e-02,  2.58840434e-02,  5.66517040e-02, -2.61496976e-02,\n",
       "        1.63506970e-01,  2.18299940e-01,  2.72764325e-01,  1.35581270e-01,\n",
       "       -7.02753738e-02, -1.93174809e-01,  9.33417827e-02,  8.86805356e-03,\n",
       "       -2.28667054e-02, -2.75731534e-01, -1.44403338e-01, -1.34978712e-01,\n",
       "        2.96812179e-03, -1.85230572e-04, -1.21379189e-01, -3.02004546e-01,\n",
       "       -1.99584544e-01, -6.56433627e-02, -2.82290846e-01,  8.56035650e-02,\n",
       "       -6.34438470e-02,  3.53019178e-01, -3.00977200e-01, -1.64208591e-01,\n",
       "        4.08261180e-01, -2.78448779e-02,  6.78983703e-02, -4.30124514e-02,\n",
       "        3.44780199e-02,  2.94307712e-02, -4.10069302e-02, -8.28323588e-02,\n",
       "        2.90459543e-01, -2.18452707e-01, -5.26647806e-01, -1.10799588e-01,\n",
       "        1.83541299e-04,  2.57252812e-01,  1.40997186e-01, -7.96167031e-02,\n",
       "        7.90391862e-02,  3.06348741e-01,  4.31097895e-01, -1.62926048e-01,\n",
       "       -1.89058498e-01,  8.78230035e-02, -1.10579459e-02, -4.74976867e-01,\n",
       "       -1.08951069e-01,  5.31199038e-01, -3.48067760e-01, -2.73340523e-01,\n",
       "        2.58265845e-02, -4.63823378e-01, -7.82915354e-02,  2.97393471e-01,\n",
       "        3.67002040e-01,  1.50102124e-01,  4.36584294e-01, -2.04610359e-02,\n",
       "       -6.35604858e-01, -3.94968092e-01,  1.79078281e-01,  3.21925253e-01,\n",
       "        1.57354593e-01,  1.48262024e-01,  1.58130750e-01,  2.56737560e-01,\n",
       "       -5.79700410e-01, -1.11163110e-01,  5.53736240e-02,  4.11469072e-01,\n",
       "        5.43272197e-01,  3.83965373e-01, -7.51740873e-01, -9.17594209e-02,\n",
       "        4.25102234e-01, -1.20902918e-01, -3.58105332e-01, -2.48911846e-02,\n",
       "        4.71850246e-01, -2.66072869e-01,  3.77436250e-01, -1.83936059e-01,\n",
       "       -6.82956457e-01, -3.77689190e-02, -2.43184969e-01, -6.48267627e-01,\n",
       "       -3.69284183e-01, -6.94353282e-02,  3.14047933e-01,  2.59548813e-01,\n",
       "        3.19006532e-01,  1.41217098e-01, -3.40619236e-02, -2.22905818e-02,\n",
       "        5.33654153e-01, -2.87508816e-01, -1.86075568e-01,  1.67058274e-01,\n",
       "       -1.50867691e-02, -2.67951041e-01, -3.13396037e-01,  4.81463224e-01,\n",
       "        2.49798656e-01, -2.41126612e-01, -5.98097801e-01,  8.32216963e-02,\n",
       "       -1.68448135e-01,  1.59965843e-01, -6.11943185e-01,  9.96377319e-02,\n",
       "        1.33386627e-01,  3.39879751e-01,  6.92109168e-02,  3.22369546e-01,\n",
       "       -2.64580786e-01, -1.40676022e-01, -4.96888578e-01,  2.78414577e-01,\n",
       "        6.28686786e-01,  7.70790517e-01, -2.41346911e-01, -7.30445907e-02,\n",
       "       -4.23922181e-01,  7.10673809e-01,  4.84107643e-01, -6.70811474e-01,\n",
       "        2.56624222e-01,  2.11115137e-01,  2.30836365e-02, -7.38367587e-02])"
      ]
     },
     "execution_count": 65,
     "metadata": {},
     "output_type": "execute_result"
    }
   ],
   "source": [
    "np.array([float(num) for num in pctadw_emb[0].split()])"
   ]
  },
  {
   "cell_type": "code",
   "execution_count": null,
   "metadata": {},
   "outputs": [],
   "source": []
  }
 ],
 "metadata": {
  "kernelspec": {
   "display_name": "Python 3",
   "language": "python",
   "name": "python3"
  },
  "language_info": {
   "codemirror_mode": {
    "name": "ipython",
    "version": 3
   },
   "file_extension": ".py",
   "mimetype": "text/x-python",
   "name": "python",
   "nbconvert_exporter": "python",
   "pygments_lexer": "ipython3",
   "version": "3.5.5"
  }
 },
 "nbformat": 4,
 "nbformat_minor": 2
}
