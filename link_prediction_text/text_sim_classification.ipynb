{
 "cells": [
  {
   "cell_type": "code",
   "execution_count": 1,
   "metadata": {},
   "outputs": [],
   "source": [
    "import pandas as pd\n",
    "import numpy as np"
   ]
  },
  {
   "cell_type": "code",
   "execution_count": 5,
   "metadata": {},
   "outputs": [],
   "source": [
    "import matplotlib.pyplot as plt\n",
    "%matplotlib inline"
   ]
  },
  {
   "cell_type": "code",
   "execution_count": 69,
   "metadata": {},
   "outputs": [],
   "source": [
    "from sklearn.metrics import roc_auc_score\n",
    "from sklearn.metrics import precision_score\n",
    "from sklearn.metrics import accuracy_score\n",
    "from sklearn.metrics import recall_score\n",
    "from sklearn.metrics import f1_score\n",
    "from sklearn.metrics import log_loss\n",
    "from sklearn.metrics import classification_report\n",
    "from sklearn.metrics import confusion_matrix"
   ]
  },
  {
   "cell_type": "code",
   "execution_count": 83,
   "metadata": {},
   "outputs": [],
   "source": [
    "from sklearn.ensemble import RandomForestClassifier"
   ]
  },
  {
   "cell_type": "code",
   "execution_count": 84,
   "metadata": {},
   "outputs": [],
   "source": [
    "test_x_y = pd.read_csv('test_links_class_similarities_2505.csv')"
   ]
  },
  {
   "cell_type": "code",
   "execution_count": 58,
   "metadata": {},
   "outputs": [
    {
     "data": {
      "text/html": [
       "<div>\n",
       "<style scoped>\n",
       "    .dataframe tbody tr th:only-of-type {\n",
       "        vertical-align: middle;\n",
       "    }\n",
       "\n",
       "    .dataframe tbody tr th {\n",
       "        vertical-align: top;\n",
       "    }\n",
       "\n",
       "    .dataframe thead th {\n",
       "        text-align: right;\n",
       "    }\n",
       "</style>\n",
       "<table border=\"1\" class=\"dataframe\">\n",
       "  <thead>\n",
       "    <tr style=\"text-align: right;\">\n",
       "      <th></th>\n",
       "      <th>citing</th>\n",
       "      <th>cited</th>\n",
       "      <th>class</th>\n",
       "      <th>sim_d2v</th>\n",
       "      <th>sim_tfidf</th>\n",
       "      <th>sim_ft_mean</th>\n",
       "      <th>sim_ft_weighted</th>\n",
       "      <th>wmd</th>\n",
       "    </tr>\n",
       "  </thead>\n",
       "  <tbody>\n",
       "    <tr>\n",
       "      <th>2904</th>\n",
       "      <td>W14-1304</td>\n",
       "      <td>W11-0705</td>\n",
       "      <td>1</td>\n",
       "      <td>0.754004</td>\n",
       "      <td>0.021915</td>\n",
       "      <td>0.832334</td>\n",
       "      <td>0.789251</td>\n",
       "      <td>1.007812</td>\n",
       "    </tr>\n",
       "    <tr>\n",
       "      <th>4040</th>\n",
       "      <td>W14-1304</td>\n",
       "      <td>S12-1033</td>\n",
       "      <td>1</td>\n",
       "      <td>0.684599</td>\n",
       "      <td>0.278297</td>\n",
       "      <td>0.934051</td>\n",
       "      <td>0.929372</td>\n",
       "      <td>0.703222</td>\n",
       "    </tr>\n",
       "    <tr>\n",
       "      <th>4090</th>\n",
       "      <td>W14-1304</td>\n",
       "      <td>S13-2103</td>\n",
       "      <td>0</td>\n",
       "      <td>0.612967</td>\n",
       "      <td>0.004720</td>\n",
       "      <td>0.801367</td>\n",
       "      <td>0.729238</td>\n",
       "      <td>0.775527</td>\n",
       "    </tr>\n",
       "    <tr>\n",
       "      <th>17643</th>\n",
       "      <td>W14-1304</td>\n",
       "      <td>W03-1301</td>\n",
       "      <td>0</td>\n",
       "      <td>0.576382</td>\n",
       "      <td>0.007299</td>\n",
       "      <td>0.836016</td>\n",
       "      <td>0.772111</td>\n",
       "      <td>0.584559</td>\n",
       "    </tr>\n",
       "    <tr>\n",
       "      <th>20106</th>\n",
       "      <td>W14-1304</td>\n",
       "      <td>P11-2102</td>\n",
       "      <td>1</td>\n",
       "      <td>0.608081</td>\n",
       "      <td>0.053375</td>\n",
       "      <td>0.884539</td>\n",
       "      <td>0.844853</td>\n",
       "      <td>0.653098</td>\n",
       "    </tr>\n",
       "  </tbody>\n",
       "</table>\n",
       "</div>"
      ],
      "text/plain": [
       "         citing     cited  class   sim_d2v  sim_tfidf  sim_ft_mean  \\\n",
       "2904   W14-1304  W11-0705      1  0.754004   0.021915     0.832334   \n",
       "4040   W14-1304  S12-1033      1  0.684599   0.278297     0.934051   \n",
       "4090   W14-1304  S13-2103      0  0.612967   0.004720     0.801367   \n",
       "17643  W14-1304  W03-1301      0  0.576382   0.007299     0.836016   \n",
       "20106  W14-1304  P11-2102      1  0.608081   0.053375     0.884539   \n",
       "\n",
       "       sim_ft_weighted       wmd  \n",
       "2904          0.789251  1.007812  \n",
       "4040          0.929372  0.703222  \n",
       "4090          0.729238  0.775527  \n",
       "17643         0.772111  0.584559  \n",
       "20106         0.844853  0.653098  "
      ]
     },
     "execution_count": 58,
     "metadata": {},
     "output_type": "execute_result"
    }
   ],
   "source": [
    "test_x_y[test_x_y['citing'] == 'W14-1304']"
   ]
  },
  {
   "cell_type": "code",
   "execution_count": 22,
   "metadata": {},
   "outputs": [
    {
     "data": {
      "text/html": [
       "<div>\n",
       "<style scoped>\n",
       "    .dataframe tbody tr th:only-of-type {\n",
       "        vertical-align: middle;\n",
       "    }\n",
       "\n",
       "    .dataframe tbody tr th {\n",
       "        vertical-align: top;\n",
       "    }\n",
       "\n",
       "    .dataframe thead th {\n",
       "        text-align: right;\n",
       "    }\n",
       "</style>\n",
       "<table border=\"1\" class=\"dataframe\">\n",
       "  <thead>\n",
       "    <tr style=\"text-align: right;\">\n",
       "      <th></th>\n",
       "      <th>citing</th>\n",
       "      <th>cited</th>\n",
       "      <th>class</th>\n",
       "      <th>sim_tfidf</th>\n",
       "      <th>sim_ft_mean</th>\n",
       "      <th>sim_ft_weighted</th>\n",
       "      <th>wmd</th>\n",
       "    </tr>\n",
       "  </thead>\n",
       "  <tbody>\n",
       "    <tr>\n",
       "      <th>2904</th>\n",
       "      <td>W14-1304</td>\n",
       "      <td>W11-0705</td>\n",
       "      <td>1</td>\n",
       "      <td>0.021915</td>\n",
       "      <td>0.832334</td>\n",
       "      <td>0.789251</td>\n",
       "      <td>1.007812</td>\n",
       "    </tr>\n",
       "    <tr>\n",
       "      <th>4040</th>\n",
       "      <td>W14-1304</td>\n",
       "      <td>S12-1033</td>\n",
       "      <td>1</td>\n",
       "      <td>0.278297</td>\n",
       "      <td>0.934051</td>\n",
       "      <td>0.929372</td>\n",
       "      <td>0.703222</td>\n",
       "    </tr>\n",
       "    <tr>\n",
       "      <th>4090</th>\n",
       "      <td>W14-1304</td>\n",
       "      <td>S13-2103</td>\n",
       "      <td>0</td>\n",
       "      <td>0.004720</td>\n",
       "      <td>0.801367</td>\n",
       "      <td>0.729238</td>\n",
       "      <td>0.775527</td>\n",
       "    </tr>\n",
       "    <tr>\n",
       "      <th>17643</th>\n",
       "      <td>W14-1304</td>\n",
       "      <td>W03-1301</td>\n",
       "      <td>0</td>\n",
       "      <td>0.007299</td>\n",
       "      <td>0.836016</td>\n",
       "      <td>0.772111</td>\n",
       "      <td>0.584559</td>\n",
       "    </tr>\n",
       "    <tr>\n",
       "      <th>20106</th>\n",
       "      <td>W14-1304</td>\n",
       "      <td>P11-2102</td>\n",
       "      <td>1</td>\n",
       "      <td>0.053375</td>\n",
       "      <td>0.884539</td>\n",
       "      <td>0.844853</td>\n",
       "      <td>0.653098</td>\n",
       "    </tr>\n",
       "  </tbody>\n",
       "</table>\n",
       "</div>"
      ],
      "text/plain": [
       "         citing     cited  class  sim_tfidf  sim_ft_mean  sim_ft_weighted  \\\n",
       "2904   W14-1304  W11-0705      1   0.021915     0.832334         0.789251   \n",
       "4040   W14-1304  S12-1033      1   0.278297     0.934051         0.929372   \n",
       "4090   W14-1304  S13-2103      0   0.004720     0.801367         0.729238   \n",
       "17643  W14-1304  W03-1301      0   0.007299     0.836016         0.772111   \n",
       "20106  W14-1304  P11-2102      1   0.053375     0.884539         0.844853   \n",
       "\n",
       "            wmd  \n",
       "2904   1.007812  \n",
       "4040   0.703222  \n",
       "4090   0.775527  \n",
       "17643  0.584559  \n",
       "20106  0.653098  "
      ]
     },
     "execution_count": 22,
     "metadata": {},
     "output_type": "execute_result"
    }
   ],
   "source": [
    "test_x_y[test_x_y['citing'] == 'W14-1304']"
   ]
  },
  {
   "cell_type": "code",
   "execution_count": 21,
   "metadata": {},
   "outputs": [
    {
     "data": {
      "text/html": [
       "<div>\n",
       "<style scoped>\n",
       "    .dataframe tbody tr th:only-of-type {\n",
       "        vertical-align: middle;\n",
       "    }\n",
       "\n",
       "    .dataframe tbody tr th {\n",
       "        vertical-align: top;\n",
       "    }\n",
       "\n",
       "    .dataframe thead th {\n",
       "        text-align: right;\n",
       "    }\n",
       "</style>\n",
       "<table border=\"1\" class=\"dataframe\">\n",
       "  <thead>\n",
       "    <tr style=\"text-align: right;\">\n",
       "      <th></th>\n",
       "      <th>citing</th>\n",
       "      <th>cited</th>\n",
       "      <th>class</th>\n",
       "      <th>sim_tfidf</th>\n",
       "      <th>sim_ft_mean</th>\n",
       "      <th>sim_ft_weighted</th>\n",
       "      <th>wmd</th>\n",
       "    </tr>\n",
       "  </thead>\n",
       "  <tbody>\n",
       "    <tr>\n",
       "      <th>2</th>\n",
       "      <td>D13-1041</td>\n",
       "      <td>W14-1304</td>\n",
       "      <td>0</td>\n",
       "      <td>0.011548</td>\n",
       "      <td>0.867591</td>\n",
       "      <td>0.818291</td>\n",
       "      <td>0.650556</td>\n",
       "    </tr>\n",
       "    <tr>\n",
       "      <th>4225</th>\n",
       "      <td>P13-1143</td>\n",
       "      <td>W14-1304</td>\n",
       "      <td>0</td>\n",
       "      <td>0.005982</td>\n",
       "      <td>0.797621</td>\n",
       "      <td>0.728486</td>\n",
       "      <td>0.953266</td>\n",
       "    </tr>\n",
       "  </tbody>\n",
       "</table>\n",
       "</div>"
      ],
      "text/plain": [
       "        citing     cited  class  sim_tfidf  sim_ft_mean  sim_ft_weighted  \\\n",
       "2     D13-1041  W14-1304      0   0.011548     0.867591         0.818291   \n",
       "4225  P13-1143  W14-1304      0   0.005982     0.797621         0.728486   \n",
       "\n",
       "           wmd  \n",
       "2     0.650556  \n",
       "4225  0.953266  "
      ]
     },
     "execution_count": 21,
     "metadata": {},
     "output_type": "execute_result"
    }
   ],
   "source": [
    "test_x_y[test_x_y['cited'] == 'W14-1304']"
   ]
  },
  {
   "cell_type": "code",
   "execution_count": 13,
   "metadata": {},
   "outputs": [],
   "source": [
    "def print_stat(col, df):\n",
    "    print('max neg: ',df[df['class'] == 0][col].max())\n",
    "    print('max pos: ',df[df['class'] == 1][col].max())\n",
    "    print('mean neg: ',df[df['class'] == 0][col].mean())\n",
    "    print('mean pos: ',df[df['class'] == 1][col].mean())\n",
    "    print('min neg: ',df[df['class'] == 0][col].min())\n",
    "    print('min pos: ',df[df['class'] == 1][col].min())"
   ]
  },
  {
   "cell_type": "code",
   "execution_count": 14,
   "metadata": {},
   "outputs": [
    {
     "name": "stdout",
     "output_type": "stream",
     "text": [
      "max neg:  0.3126740363891101\n",
      "max pos:  1.0000000000000002\n",
      "mean neg:  0.029005514850992713\n",
      "mean pos:  0.1207099143926098\n",
      "min neg:  0.0\n",
      "min pos:  0.0\n"
     ]
    }
   ],
   "source": [
    "print_stat('sim_tfidf', test_x_y)"
   ]
  },
  {
   "cell_type": "code",
   "execution_count": 15,
   "metadata": {},
   "outputs": [
    {
     "name": "stdout",
     "output_type": "stream",
     "text": [
      "max neg:  0.960478166740966\n",
      "max pos:  1.0000000000000004\n",
      "mean neg:  0.8848889648996194\n",
      "mean pos:  0.9106230438569021\n",
      "min neg:  0.5961177005663543\n",
      "min pos:  0.7313475799192806\n"
     ]
    }
   ],
   "source": [
    "print_stat('sim_ft_mean', test_x_y)"
   ]
  },
  {
   "cell_type": "code",
   "execution_count": 16,
   "metadata": {},
   "outputs": [
    {
     "name": "stdout",
     "output_type": "stream",
     "text": [
      "max neg:  0.9562926400187136\n",
      "max pos:  1.0000000000000004\n",
      "mean neg:  0.8611485185364427\n",
      "mean pos:  0.8908586768142386\n",
      "min neg:  0.5434696145883092\n",
      "min pos:  0.6207053057346779\n"
     ]
    }
   ],
   "source": [
    "print_stat('sim_ft_weighted', test_x_y)"
   ]
  },
  {
   "cell_type": "code",
   "execution_count": 23,
   "metadata": {},
   "outputs": [
    {
     "name": "stdout",
     "output_type": "stream",
     "text": [
      "max neg:  1.8882284424622315\n",
      "max pos:  1.32364617616696\n",
      "mean neg:  0.6046992590197461\n",
      "mean pos:  0.5546026097937531\n",
      "min neg:  0.21120697425291585\n",
      "min pos:  0.0\n"
     ]
    }
   ],
   "source": [
    "print_stat('wmd', test_x_y)"
   ]
  },
  {
   "cell_type": "code",
   "execution_count": 88,
   "metadata": {},
   "outputs": [],
   "source": [
    "def plot_hist_classes(df, col, xlabel, ylabel, titles, filename):  \n",
    "    f,a = plt.subplots(1,2,figsize=(10,4))\n",
    "    a = a.ravel()\n",
    "    for idx,ax in enumerate(a):\n",
    "        class_label = idx%2\n",
    "        data = df[df['class'] == class_label][col]\n",
    "        ax.hist(data, normed=True, bins=20)\n",
    "        ax.set_title(titles[class_label])\n",
    "        ax.set_xlabel(xlabel)\n",
    "        ax.set_ylabel(ylabel)\n",
    "    plt.tight_layout()\n",
    "    plt.savefig(filename)"
   ]
  },
  {
   "cell_type": "code",
   "execution_count": 40,
   "metadata": {},
   "outputs": [],
   "source": [
    "# xs = ['Similarity (TF-IDF)','Similarity (Mean FT)','Similarity (Weighted FT)','WMD']\n",
    "ys = 'Count'\n",
    "titles = ['Negative','Positive'] \n",
    "# col = 'sim_tfidf'"
   ]
  },
  {
   "cell_type": "code",
   "execution_count": 89,
   "metadata": {},
   "outputs": [
    {
     "name": "stderr",
     "output_type": "stream",
     "text": [
      "c:\\programdata\\anaconda3\\envs\\mlenv\\lib\\site-packages\\matplotlib\\axes\\_axes.py:6462: UserWarning: The 'normed' kwarg is deprecated, and has been replaced by the 'density' kwarg.\n",
      "  warnings.warn(\"The 'normed' kwarg is deprecated, and has been \"\n"
     ]
    },
    {
     "data": {
      "image/png": "[encoded data removed]",
      "text/plain": [
       "<Figure size 720x288 with 2 Axes>"
      ]
     },
     "metadata": {},
     "output_type": "display_data"
    }
   ],
   "source": [
    "plot_hist_classes(test_x_y, 'sim_tfidf', 'Similarity (TF-IDF)', ys, titles, 'tfidf_sim.png')"
   ]
  },
  {
   "cell_type": "code",
   "execution_count": null,
   "metadata": {},
   "outputs": [],
   "source": [
    "# tfidf threshold = 0.05 -> Positive"
   ]
  },
  {
   "cell_type": "code",
   "execution_count": 90,
   "metadata": {},
   "outputs": [
    {
     "name": "stderr",
     "output_type": "stream",
     "text": [
      "c:\\programdata\\anaconda3\\envs\\mlenv\\lib\\site-packages\\matplotlib\\axes\\_axes.py:6462: UserWarning: The 'normed' kwarg is deprecated, and has been replaced by the 'density' kwarg.\n",
      "  warnings.warn(\"The 'normed' kwarg is deprecated, and has been \"\n"
     ]
    },
    {
     "data": {
      "image/png": "[encoded data removed]",
      "text/plain": [
       "<Figure size 720x288 with 2 Axes>"
      ]
     },
     "metadata": {},
     "output_type": "display_data"
    }
   ],
   "source": [
    "plot_hist_classes(test_x_y, 'sim_ft_mean', 'Similarity (Mean FastText)', ys, titles,'sim_ft_mean.png')"
   ]
  },
  {
   "cell_type": "code",
   "execution_count": null,
   "metadata": {},
   "outputs": [],
   "source": [
    "# ft mean threshold = 0.88"
   ]
  },
  {
   "cell_type": "code",
   "execution_count": 99,
   "metadata": {},
   "outputs": [
    {
     "name": "stderr",
     "output_type": "stream",
     "text": [
      "c:\\programdata\\anaconda3\\envs\\mlenv\\lib\\site-packages\\matplotlib\\axes\\_axes.py:6462: UserWarning: The 'normed' kwarg is deprecated, and has been replaced by the 'density' kwarg.\n",
      "  warnings.warn(\"The 'normed' kwarg is deprecated, and has been \"\n"
     ]
    },
    {
     "data": {
      "image/png": "[encoded data removed]",
      "text/plain": [
       "<Figure size 720x288 with 2 Axes>"
      ]
     },
     "metadata": {},
     "output_type": "display_data"
    }
   ],
   "source": [
    "plot_hist_classes(test_x_y, 'sim_ft_weighted', 'Similarity (Weighted FastText)', ys, titles,'sim_ft_weighted.png')"
   ]
  },
  {
   "cell_type": "code",
   "execution_count": null,
   "metadata": {},
   "outputs": [],
   "source": [
    "# ft weighted threshold 0.88"
   ]
  },
  {
   "cell_type": "code",
   "execution_count": 92,
   "metadata": {},
   "outputs": [
    {
     "name": "stderr",
     "output_type": "stream",
     "text": [
      "c:\\programdata\\anaconda3\\envs\\mlenv\\lib\\site-packages\\matplotlib\\axes\\_axes.py:6462: UserWarning: The 'normed' kwarg is deprecated, and has been replaced by the 'density' kwarg.\n",
      "  warnings.warn(\"The 'normed' kwarg is deprecated, and has been \"\n"
     ]
    },
    {
     "data": {
      "image/png": "[encoded data removed]",
      "text/plain": [
       "<Figure size 720x288 with 2 Axes>"
      ]
     },
     "metadata": {},
     "output_type": "display_data"
    }
   ],
   "source": [
    "plot_hist_classes(test_x_y, 'wmd', 'WMD', ys, titles,'wmd.png')"
   ]
  },
  {
   "cell_type": "code",
   "execution_count": 95,
   "metadata": {},
   "outputs": [],
   "source": [
    "test_x_y['wmd_sim'] = test_x_y['wmd'].apply(lambda x: 1/(x+1))"
   ]
  },
  {
   "cell_type": "code",
   "execution_count": 96,
   "metadata": {},
   "outputs": [
    {
     "data": {
      "text/html": [
       "<div>\n",
       "<style scoped>\n",
       "    .dataframe tbody tr th:only-of-type {\n",
       "        vertical-align: middle;\n",
       "    }\n",
       "\n",
       "    .dataframe tbody tr th {\n",
       "        vertical-align: top;\n",
       "    }\n",
       "\n",
       "    .dataframe thead th {\n",
       "        text-align: right;\n",
       "    }\n",
       "</style>\n",
       "<table border=\"1\" class=\"dataframe\">\n",
       "  <thead>\n",
       "    <tr style=\"text-align: right;\">\n",
       "      <th></th>\n",
       "      <th>Unnamed: 0</th>\n",
       "      <th>citing</th>\n",
       "      <th>cited</th>\n",
       "      <th>class</th>\n",
       "      <th>sim_d2v</th>\n",
       "      <th>sim_tfidf</th>\n",
       "      <th>sim_ft_mean</th>\n",
       "      <th>sim_ft_weighted</th>\n",
       "      <th>wmd</th>\n",
       "      <th>wmd_sim</th>\n",
       "    </tr>\n",
       "  </thead>\n",
       "  <tbody>\n",
       "    <tr>\n",
       "      <th>0</th>\n",
       "      <td>0</td>\n",
       "      <td>C14-1216</td>\n",
       "      <td>W07-1019</td>\n",
       "      <td>0</td>\n",
       "      <td>0.426718</td>\n",
       "      <td>0.004421</td>\n",
       "      <td>0.853234</td>\n",
       "      <td>0.785374</td>\n",
       "      <td>0.642577</td>\n",
       "      <td>0.608800</td>\n",
       "    </tr>\n",
       "    <tr>\n",
       "      <th>1</th>\n",
       "      <td>1</td>\n",
       "      <td>W13-2002</td>\n",
       "      <td>D08-1027</td>\n",
       "      <td>0</td>\n",
       "      <td>0.516183</td>\n",
       "      <td>0.029428</td>\n",
       "      <td>0.870538</td>\n",
       "      <td>0.838423</td>\n",
       "      <td>0.586771</td>\n",
       "      <td>0.630211</td>\n",
       "    </tr>\n",
       "    <tr>\n",
       "      <th>2</th>\n",
       "      <td>2</td>\n",
       "      <td>D13-1041</td>\n",
       "      <td>W14-1304</td>\n",
       "      <td>0</td>\n",
       "      <td>0.567861</td>\n",
       "      <td>0.011548</td>\n",
       "      <td>0.867591</td>\n",
       "      <td>0.818291</td>\n",
       "      <td>0.650556</td>\n",
       "      <td>0.605856</td>\n",
       "    </tr>\n",
       "    <tr>\n",
       "      <th>3</th>\n",
       "      <td>3</td>\n",
       "      <td>P14-2095</td>\n",
       "      <td>P13-2017</td>\n",
       "      <td>1</td>\n",
       "      <td>0.549364</td>\n",
       "      <td>0.133643</td>\n",
       "      <td>0.870482</td>\n",
       "      <td>0.854460</td>\n",
       "      <td>0.652218</td>\n",
       "      <td>0.605247</td>\n",
       "    </tr>\n",
       "    <tr>\n",
       "      <th>4</th>\n",
       "      <td>4</td>\n",
       "      <td>C14-1089</td>\n",
       "      <td>W04-3217</td>\n",
       "      <td>0</td>\n",
       "      <td>0.607326</td>\n",
       "      <td>0.025127</td>\n",
       "      <td>0.895686</td>\n",
       "      <td>0.848893</td>\n",
       "      <td>0.756907</td>\n",
       "      <td>0.569182</td>\n",
       "    </tr>\n",
       "    <tr>\n",
       "      <th>5</th>\n",
       "      <td>5</td>\n",
       "      <td>D14-1220</td>\n",
       "      <td>W10-4327</td>\n",
       "      <td>1</td>\n",
       "      <td>0.556891</td>\n",
       "      <td>0.242829</td>\n",
       "      <td>0.930688</td>\n",
       "      <td>0.921227</td>\n",
       "      <td>0.423930</td>\n",
       "      <td>0.702282</td>\n",
       "    </tr>\n",
       "    <tr>\n",
       "      <th>6</th>\n",
       "      <td>6</td>\n",
       "      <td>S13-2038</td>\n",
       "      <td>P13-1045</td>\n",
       "      <td>0</td>\n",
       "      <td>0.722981</td>\n",
       "      <td>0.000000</td>\n",
       "      <td>0.905484</td>\n",
       "      <td>0.899809</td>\n",
       "      <td>0.447378</td>\n",
       "      <td>0.690904</td>\n",
       "    </tr>\n",
       "    <tr>\n",
       "      <th>7</th>\n",
       "      <td>7</td>\n",
       "      <td>D13-1116</td>\n",
       "      <td>P12-1046</td>\n",
       "      <td>1</td>\n",
       "      <td>0.675681</td>\n",
       "      <td>0.045418</td>\n",
       "      <td>0.924088</td>\n",
       "      <td>0.883340</td>\n",
       "      <td>0.322961</td>\n",
       "      <td>0.755880</td>\n",
       "    </tr>\n",
       "    <tr>\n",
       "      <th>8</th>\n",
       "      <td>8</td>\n",
       "      <td>P14-1036</td>\n",
       "      <td>D10-1077</td>\n",
       "      <td>0</td>\n",
       "      <td>0.549989</td>\n",
       "      <td>0.035893</td>\n",
       "      <td>0.929874</td>\n",
       "      <td>0.920142</td>\n",
       "      <td>0.449794</td>\n",
       "      <td>0.689753</td>\n",
       "    </tr>\n",
       "    <tr>\n",
       "      <th>9</th>\n",
       "      <td>9</td>\n",
       "      <td>C14-1030</td>\n",
       "      <td>W09-1412</td>\n",
       "      <td>0</td>\n",
       "      <td>0.560475</td>\n",
       "      <td>0.044558</td>\n",
       "      <td>0.909203</td>\n",
       "      <td>0.894026</td>\n",
       "      <td>0.444028</td>\n",
       "      <td>0.692507</td>\n",
       "    </tr>\n",
       "  </tbody>\n",
       "</table>\n",
       "</div>"
      ],
      "text/plain": [
       "   Unnamed: 0    citing     cited  class   sim_d2v  sim_tfidf  sim_ft_mean  \\\n",
       "0           0  C14-1216  W07-1019      0  0.426718   0.004421     0.853234   \n",
       "1           1  W13-2002  D08-1027      0  0.516183   0.029428     0.870538   \n",
       "2           2  D13-1041  W14-1304      0  0.567861   0.011548     0.867591   \n",
       "3           3  P14-2095  P13-2017      1  0.549364   0.133643     0.870482   \n",
       "4           4  C14-1089  W04-3217      0  0.607326   0.025127     0.895686   \n",
       "5           5  D14-1220  W10-4327      1  0.556891   0.242829     0.930688   \n",
       "6           6  S13-2038  P13-1045      0  0.722981   0.000000     0.905484   \n",
       "7           7  D13-1116  P12-1046      1  0.675681   0.045418     0.924088   \n",
       "8           8  P14-1036  D10-1077      0  0.549989   0.035893     0.929874   \n",
       "9           9  C14-1030  W09-1412      0  0.560475   0.044558     0.909203   \n",
       "\n",
       "   sim_ft_weighted       wmd   wmd_sim  \n",
       "0         0.785374  0.642577  0.608800  \n",
       "1         0.838423  0.586771  0.630211  \n",
       "2         0.818291  0.650556  0.605856  \n",
       "3         0.854460  0.652218  0.605247  \n",
       "4         0.848893  0.756907  0.569182  \n",
       "5         0.921227  0.423930  0.702282  \n",
       "6         0.899809  0.447378  0.690904  \n",
       "7         0.883340  0.322961  0.755880  \n",
       "8         0.920142  0.449794  0.689753  \n",
       "9         0.894026  0.444028  0.692507  "
      ]
     },
     "execution_count": 96,
     "metadata": {},
     "output_type": "execute_result"
    }
   ],
   "source": [
    "test_x_y.head(10)"
   ]
  },
  {
   "cell_type": "code",
   "execution_count": 97,
   "metadata": {},
   "outputs": [
    {
     "name": "stderr",
     "output_type": "stream",
     "text": [
      "c:\\programdata\\anaconda3\\envs\\mlenv\\lib\\site-packages\\matplotlib\\axes\\_axes.py:6462: UserWarning: The 'normed' kwarg is deprecated, and has been replaced by the 'density' kwarg.\n",
      "  warnings.warn(\"The 'normed' kwarg is deprecated, and has been \"\n"
     ]
    },
    {
     "data": {
      "image/png": "[encoded data removed]",
      "text/plain": [
       "<Figure size 720x288 with 2 Axes>"
      ]
     },
     "metadata": {},
     "output_type": "display_data"
    }
   ],
   "source": [
    "plot_hist_classes(test_x_y, 'wmd_sim', 'Similarity (WMD)', ys, titles,'wmd_sim.png')"
   ]
  },
  {
   "cell_type": "code",
   "execution_count": null,
   "metadata": {},
   "outputs": [],
   "source": [
    "# wmd_sim 0.65"
   ]
  },
  {
   "cell_type": "code",
   "execution_count": 60,
   "metadata": {},
   "outputs": [
    {
     "data": {
      "text/html": [
       "<div>\n",
       "<style scoped>\n",
       "    .dataframe tbody tr th:only-of-type {\n",
       "        vertical-align: middle;\n",
       "    }\n",
       "\n",
       "    .dataframe tbody tr th {\n",
       "        vertical-align: top;\n",
       "    }\n",
       "\n",
       "    .dataframe thead th {\n",
       "        text-align: right;\n",
       "    }\n",
       "</style>\n",
       "<table border=\"1\" class=\"dataframe\">\n",
       "  <thead>\n",
       "    <tr style=\"text-align: right;\">\n",
       "      <th></th>\n",
       "      <th>citing</th>\n",
       "      <th>cited</th>\n",
       "      <th>class</th>\n",
       "      <th>sim_d2v</th>\n",
       "      <th>sim_tfidf</th>\n",
       "      <th>sim_ft_mean</th>\n",
       "      <th>sim_ft_weighted</th>\n",
       "      <th>wmd</th>\n",
       "    </tr>\n",
       "  </thead>\n",
       "  <tbody>\n",
       "    <tr>\n",
       "      <th>0</th>\n",
       "      <td>C14-1216</td>\n",
       "      <td>W07-1019</td>\n",
       "      <td>0</td>\n",
       "      <td>0.454362</td>\n",
       "      <td>0.004421</td>\n",
       "      <td>0.853234</td>\n",
       "      <td>0.785374</td>\n",
       "      <td>0.642577</td>\n",
       "    </tr>\n",
       "    <tr>\n",
       "      <th>1</th>\n",
       "      <td>W13-2002</td>\n",
       "      <td>D08-1027</td>\n",
       "      <td>0</td>\n",
       "      <td>0.547518</td>\n",
       "      <td>0.029428</td>\n",
       "      <td>0.870538</td>\n",
       "      <td>0.838423</td>\n",
       "      <td>0.586771</td>\n",
       "    </tr>\n",
       "    <tr>\n",
       "      <th>2</th>\n",
       "      <td>D13-1041</td>\n",
       "      <td>W14-1304</td>\n",
       "      <td>0</td>\n",
       "      <td>0.604749</td>\n",
       "      <td>0.011548</td>\n",
       "      <td>0.867591</td>\n",
       "      <td>0.818291</td>\n",
       "      <td>0.650556</td>\n",
       "    </tr>\n",
       "    <tr>\n",
       "      <th>3</th>\n",
       "      <td>P14-2095</td>\n",
       "      <td>P13-2017</td>\n",
       "      <td>1</td>\n",
       "      <td>0.260585</td>\n",
       "      <td>0.133643</td>\n",
       "      <td>0.870482</td>\n",
       "      <td>0.854460</td>\n",
       "      <td>0.652218</td>\n",
       "    </tr>\n",
       "    <tr>\n",
       "      <th>4</th>\n",
       "      <td>C14-1089</td>\n",
       "      <td>W04-3217</td>\n",
       "      <td>0</td>\n",
       "      <td>0.505673</td>\n",
       "      <td>0.025127</td>\n",
       "      <td>0.895686</td>\n",
       "      <td>0.848893</td>\n",
       "      <td>0.756907</td>\n",
       "    </tr>\n",
       "  </tbody>\n",
       "</table>\n",
       "</div>"
      ],
      "text/plain": [
       "     citing     cited  class   sim_d2v  sim_tfidf  sim_ft_mean  \\\n",
       "0  C14-1216  W07-1019      0  0.454362   0.004421     0.853234   \n",
       "1  W13-2002  D08-1027      0  0.547518   0.029428     0.870538   \n",
       "2  D13-1041  W14-1304      0  0.604749   0.011548     0.867591   \n",
       "3  P14-2095  P13-2017      1  0.260585   0.133643     0.870482   \n",
       "4  C14-1089  W04-3217      0  0.505673   0.025127     0.895686   \n",
       "\n",
       "   sim_ft_weighted       wmd  \n",
       "0         0.785374  0.642577  \n",
       "1         0.838423  0.586771  \n",
       "2         0.818291  0.650556  \n",
       "3         0.854460  0.652218  \n",
       "4         0.848893  0.756907  "
      ]
     },
     "execution_count": 60,
     "metadata": {},
     "output_type": "execute_result"
    }
   ],
   "source": [
    "test_x_y.head()"
   ]
  },
  {
   "cell_type": "code",
   "execution_count": 98,
   "metadata": {},
   "outputs": [
    {
     "name": "stderr",
     "output_type": "stream",
     "text": [
      "c:\\programdata\\anaconda3\\envs\\mlenv\\lib\\site-packages\\matplotlib\\axes\\_axes.py:6462: UserWarning: The 'normed' kwarg is deprecated, and has been replaced by the 'density' kwarg.\n",
      "  warnings.warn(\"The 'normed' kwarg is deprecated, and has been \"\n"
     ]
    },
    {
     "data": {
      "image/png": "[encoded data removed]",
      "text/plain": [
       "<Figure size 720x288 with 2 Axes>"
      ]
     },
     "metadata": {},
     "output_type": "display_data"
    }
   ],
   "source": [
    "plot_hist_classes(test_x_y, 'sim_d2v', 'Similarity (Doc2vec)', ys, titles,'d2v.png')"
   ]
  },
  {
   "cell_type": "code",
   "execution_count": 64,
   "metadata": {},
   "outputs": [],
   "source": [
    "test_x_y['tfidf_label'] = test_x_y['sim_tfidf'].apply(lambda x: 1 if x > 0.05 else 0)"
   ]
  },
  {
   "cell_type": "code",
   "execution_count": 79,
   "metadata": {},
   "outputs": [],
   "source": [
    "test_x_y['ft_mean_label'] = test_x_y['sim_ft_mean'].apply(lambda x: 1 if x > 0.89 else 0)\n",
    "test_x_y['ft_weight_label'] = test_x_y['sim_ft_weighted'].apply(lambda x: 1 if x > 0.89 else 0)\n",
    "test_x_y['wmd_label'] = test_x_y['wmd_sim'].apply(lambda x: 1 if x > 0.65 else 0)"
   ]
  },
  {
   "cell_type": "code",
   "execution_count": 68,
   "metadata": {},
   "outputs": [],
   "source": [
    "def print_class_metrics(y_test, y_pred_test):\n",
    "    precision_test = precision_score(y_test, y_pred_test)\n",
    "    recall_test = recall_score(y_test, y_pred_test)\n",
    "    accuracy_test = accuracy_score(y_test, y_pred_test)\n",
    "    f1_macro_test = f1_score(y_test, y_pred_test, average='macro')\n",
    "    f1_micro_test = f1_score(y_test, y_pred_test, average='micro')\n",
    "    logloss_test = log_loss(y_test, y_pred_test)\n",
    "    roc_auc_test = roc_auc_score(y_test, y_pred_test)\n",
    "    print('Precision: ' + str(precision_test))\n",
    "    print('Recall: ' + str(recall_test))\n",
    "    print('Accuracy: ' + str(accuracy_test))\n",
    "    print('F1-macro: ' + str(f1_macro_test))\n",
    "    print('F1-micro: ' + str(f1_micro_test))\n",
    "    print('Logloss: ' + str(logloss_test))\n",
    "    print('ROC-AUC: ' + str(roc_auc_test))"
   ]
  },
  {
   "cell_type": "code",
   "execution_count": 80,
   "metadata": {},
   "outputs": [
    {
     "data": {
      "text/html": [
       "<div>\n",
       "<style scoped>\n",
       "    .dataframe tbody tr th:only-of-type {\n",
       "        vertical-align: middle;\n",
       "    }\n",
       "\n",
       "    .dataframe tbody tr th {\n",
       "        vertical-align: top;\n",
       "    }\n",
       "\n",
       "    .dataframe thead th {\n",
       "        text-align: right;\n",
       "    }\n",
       "</style>\n",
       "<table border=\"1\" class=\"dataframe\">\n",
       "  <thead>\n",
       "    <tr style=\"text-align: right;\">\n",
       "      <th></th>\n",
       "      <th>citing</th>\n",
       "      <th>cited</th>\n",
       "      <th>class</th>\n",
       "      <th>sim_d2v</th>\n",
       "      <th>sim_tfidf</th>\n",
       "      <th>sim_ft_mean</th>\n",
       "      <th>sim_ft_weighted</th>\n",
       "      <th>wmd</th>\n",
       "      <th>wmd_sim</th>\n",
       "      <th>tfidf_label</th>\n",
       "      <th>ft_mean_label</th>\n",
       "      <th>ft_weight_label</th>\n",
       "      <th>wmd_label</th>\n",
       "    </tr>\n",
       "  </thead>\n",
       "  <tbody>\n",
       "    <tr>\n",
       "      <th>0</th>\n",
       "      <td>C14-1216</td>\n",
       "      <td>W07-1019</td>\n",
       "      <td>0</td>\n",
       "      <td>0.454362</td>\n",
       "      <td>0.004421</td>\n",
       "      <td>0.853234</td>\n",
       "      <td>0.785374</td>\n",
       "      <td>0.642577</td>\n",
       "      <td>0.608800</td>\n",
       "      <td>0</td>\n",
       "      <td>0</td>\n",
       "      <td>0</td>\n",
       "      <td>0</td>\n",
       "    </tr>\n",
       "    <tr>\n",
       "      <th>1</th>\n",
       "      <td>W13-2002</td>\n",
       "      <td>D08-1027</td>\n",
       "      <td>0</td>\n",
       "      <td>0.547518</td>\n",
       "      <td>0.029428</td>\n",
       "      <td>0.870538</td>\n",
       "      <td>0.838423</td>\n",
       "      <td>0.586771</td>\n",
       "      <td>0.630211</td>\n",
       "      <td>0</td>\n",
       "      <td>0</td>\n",
       "      <td>0</td>\n",
       "      <td>0</td>\n",
       "    </tr>\n",
       "    <tr>\n",
       "      <th>2</th>\n",
       "      <td>D13-1041</td>\n",
       "      <td>W14-1304</td>\n",
       "      <td>0</td>\n",
       "      <td>0.604749</td>\n",
       "      <td>0.011548</td>\n",
       "      <td>0.867591</td>\n",
       "      <td>0.818291</td>\n",
       "      <td>0.650556</td>\n",
       "      <td>0.605856</td>\n",
       "      <td>0</td>\n",
       "      <td>0</td>\n",
       "      <td>0</td>\n",
       "      <td>0</td>\n",
       "    </tr>\n",
       "    <tr>\n",
       "      <th>3</th>\n",
       "      <td>P14-2095</td>\n",
       "      <td>P13-2017</td>\n",
       "      <td>1</td>\n",
       "      <td>0.260585</td>\n",
       "      <td>0.133643</td>\n",
       "      <td>0.870482</td>\n",
       "      <td>0.854460</td>\n",
       "      <td>0.652218</td>\n",
       "      <td>0.605247</td>\n",
       "      <td>1</td>\n",
       "      <td>0</td>\n",
       "      <td>0</td>\n",
       "      <td>0</td>\n",
       "    </tr>\n",
       "    <tr>\n",
       "      <th>4</th>\n",
       "      <td>C14-1089</td>\n",
       "      <td>W04-3217</td>\n",
       "      <td>0</td>\n",
       "      <td>0.505673</td>\n",
       "      <td>0.025127</td>\n",
       "      <td>0.895686</td>\n",
       "      <td>0.848893</td>\n",
       "      <td>0.756907</td>\n",
       "      <td>0.569182</td>\n",
       "      <td>0</td>\n",
       "      <td>1</td>\n",
       "      <td>0</td>\n",
       "      <td>0</td>\n",
       "    </tr>\n",
       "  </tbody>\n",
       "</table>\n",
       "</div>"
      ],
      "text/plain": [
       "     citing     cited  class   sim_d2v  sim_tfidf  sim_ft_mean  \\\n",
       "0  C14-1216  W07-1019      0  0.454362   0.004421     0.853234   \n",
       "1  W13-2002  D08-1027      0  0.547518   0.029428     0.870538   \n",
       "2  D13-1041  W14-1304      0  0.604749   0.011548     0.867591   \n",
       "3  P14-2095  P13-2017      1  0.260585   0.133643     0.870482   \n",
       "4  C14-1089  W04-3217      0  0.505673   0.025127     0.895686   \n",
       "\n",
       "   sim_ft_weighted       wmd   wmd_sim  tfidf_label  ft_mean_label  \\\n",
       "0         0.785374  0.642577  0.608800            0              0   \n",
       "1         0.838423  0.586771  0.630211            0              0   \n",
       "2         0.818291  0.650556  0.605856            0              0   \n",
       "3         0.854460  0.652218  0.605247            1              0   \n",
       "4         0.848893  0.756907  0.569182            0              1   \n",
       "\n",
       "   ft_weight_label  wmd_label  \n",
       "0                0          0  \n",
       "1                0          0  \n",
       "2                0          0  \n",
       "3                0          0  \n",
       "4                0          0  "
      ]
     },
     "execution_count": 80,
     "metadata": {},
     "output_type": "execute_result"
    }
   ],
   "source": [
    "test_x_y.head()"
   ]
  },
  {
   "cell_type": "code",
   "execution_count": 71,
   "metadata": {},
   "outputs": [
    {
     "name": "stdout",
     "output_type": "stream",
     "text": [
      "Precision: 0.8272561967652406\n",
      "Recall: 0.7549344978165939\n",
      "Accuracy: 0.798646288209607\n",
      "F1-macro: 0.7982608210005595\n",
      "F1-micro: 0.798646288209607\n",
      "Logloss: 6.954573852851295\n",
      "ROC-AUC: 0.798646288209607\n"
     ]
    }
   ],
   "source": [
    "print_class_metrics(test_x_y['class'], test_x_y['tfidf_label'])"
   ]
  },
  {
   "cell_type": "code",
   "execution_count": 81,
   "metadata": {},
   "outputs": [
    {
     "name": "stdout",
     "output_type": "stream",
     "text": [
      "Precision: 0.615608896121508\n",
      "Recall: 0.7929257641921398\n",
      "Accuracy: 0.6489082969432315\n",
      "F1-macro: 0.6414720578258393\n",
      "F1-micro: 0.6489082969432315\n",
      "Logloss: 12.126475769996231\n",
      "ROC-AUC: 0.6489082969432314\n"
     ]
    }
   ],
   "source": [
    "print_class_metrics(test_x_y['class'], test_x_y['ft_mean_label'])"
   ]
  },
  {
   "cell_type": "code",
   "execution_count": 82,
   "metadata": {},
   "outputs": [
    {
     "name": "stdout",
     "output_type": "stream",
     "text": [
      "Precision: 0.6939569101418812\n",
      "Recall: 0.5766812227074236\n",
      "Accuracy: 0.6611790393013101\n",
      "F1-macro: 0.6587425013675999\n",
      "F1-micro: 0.6611790393013101\n",
      "Logloss: 11.702563077547106\n",
      "ROC-AUC: 0.6611790393013101\n"
     ]
    }
   ],
   "source": [
    "print_class_metrics(test_x_y['class'], test_x_y['ft_weight_label'])"
   ]
  },
  {
   "cell_type": "code",
   "execution_count": 74,
   "metadata": {},
   "outputs": [
    {
     "name": "stdout",
     "output_type": "stream",
     "text": [
      "Precision: 0.6025100075732988\n",
      "Recall: 0.48637554585152837\n",
      "Accuracy: 0.5827510917030567\n",
      "F1-macro: 0.5788392470926604\n",
      "F1-micro: 0.5827510917030567\n",
      "Logloss: 14.411395029446728\n",
      "ROC-AUC: 0.5827510917030567\n"
     ]
    }
   ],
   "source": [
    "print_class_metrics(test_x_y['class'], test_x_y['wmd_label'])"
   ]
  },
  {
   "cell_type": "code",
   "execution_count": null,
   "metadata": {},
   "outputs": [],
   "source": []
  }
 ],
 "metadata": {
  "kernelspec": {
   "display_name": "Python 3",
   "language": "python",
   "name": "python3"
  },
  "language_info": {
   "codemirror_mode": {
    "name": "ipython",
    "version": 3
   },
   "file_extension": ".py",
   "mimetype": "text/x-python",
   "name": "python",
   "nbconvert_exporter": "python",
   "pygments_lexer": "ipython3",
   "version": "3.5.5"
  }
 },
 "nbformat": 4,
 "nbformat_minor": 2
}
